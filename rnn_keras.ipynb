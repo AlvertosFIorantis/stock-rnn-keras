{
 "cells": [
  {
   "cell_type": "code",
   "execution_count": 1,
   "metadata": {},
   "outputs": [
    {
     "name": "stderr",
     "output_type": "stream",
     "text": [
      "C:\\Users\\Alvertos\\Anaconda3\\envs\\keras\\lib\\site-packages\\PIL\\Image.py:116: RuntimeWarning: The _imaging extension was built for another version of Pillow or PIL:\n",
      "Core version: 5.3.0\n",
      "Pillow version: 5.4.1\n",
      "  warnings.warn(str(v), RuntimeWarning)\n"
     ]
    }
   ],
   "source": [
    "import numpy as np\n",
    "import matplotlib.pyplot as plt\n",
    "import pandas as pd\n",
    "from collections import deque"
   ]
  },
  {
   "cell_type": "code",
   "execution_count": 2,
   "metadata": {},
   "outputs": [
    {
     "name": "stdout",
     "output_type": "stream",
     "text": [
      "        Open       High        Low      Close  Adj Close     Volume\n",
      "0  75.701431  77.500000  75.697144  76.532860  65.135979   94623200\n",
      "1  76.888573  78.104286  76.808571  78.055717  66.432060   83140400\n",
      "2  79.074287  80.028572  78.808571  79.622856  67.765808   97909700\n",
      "3  79.271431  79.550003  78.811432  79.178574  67.387703   57319500\n",
      "4  78.782860  78.867142  77.128571  77.238571  65.736603  106684900\n",
      "5  77.284286  78.581429  77.202858  78.438568  66.757919   82131700\n",
      "6  78.701431  79.612854  78.258568  78.787140  67.054565   94996300\n",
      "7  78.562859  79.500000  77.830002  79.454285  67.622375  100809800\n",
      "8  79.142860  79.374283  77.821426  78.010002  66.393143  107338700\n",
      "9  78.581429  79.257141  77.964287  78.642860  66.931786  138719700\n"
     ]
    }
   ],
   "source": [
    "#Importing dataset\n",
    "main_dataset = pd.read_csv(\"AAPL.csv\")\n",
    "main_dataset_1 = main_dataset.drop(\"Date\",1)\n",
    "print(main_dataset_1.head(10))"
   ]
  },
  {
   "cell_type": "code",
   "execution_count": 3,
   "metadata": {},
   "outputs": [
    {
     "name": "stdout",
     "output_type": "stream",
     "text": [
      "['Open', 'High', 'Low', 'Close', 'Adj Close', 'Volume']\n"
     ]
    }
   ],
   "source": [
    "columns_names=list(main_dataset_1.columns.values)\n",
    "print(columns_names)"
   ]
  },
  {
   "cell_type": "code",
   "execution_count": 4,
   "metadata": {},
   "outputs": [],
   "source": [
    "#split data to train and testing we will use the last 10% of our dataset as testing\n",
    "main_dataset_1_values = main_dataset_1.values\n",
    "train_size = int(len(main_dataset_1_values) * 0.90) \n",
    "test_size = len(main_dataset_1_values) - train_size\n",
    "training_dataset, validation_dataset = main_dataset_1_values[0:train_size, :], main_dataset_1_values[train_size:len(main_dataset_1_values), :]"
   ]
  },
  {
   "cell_type": "code",
   "execution_count": 5,
   "metadata": {},
   "outputs": [
    {
     "name": "stderr",
     "output_type": "stream",
     "text": [
      "C:\\Users\\Alvertos\\Anaconda3\\envs\\keras\\lib\\site-packages\\PIL\\Image.py:116: RuntimeWarning: The _imaging extension was built for another version of Pillow or PIL:\n",
      "Core version: 5.3.0\n",
      "Pillow version: 5.4.1\n",
      "  warnings.warn(str(v), RuntimeWarning)\n"
     ]
    }
   ],
   "source": [
    "#Normalize dataset\n",
    "from sklearn import preprocessing\n",
    "taget_colum=training_dataset[:,0]\n",
    "min_max_scaler = preprocessing.MinMaxScaler(feature_range = (0,1))\n",
    "training_dataset_scaled = min_max_scaler.fit_transform(training_dataset)\n",
    "min_Max_scaler_target=preprocessing.MinMaxScaler(feature_range = (0,1))\n",
    "taget_colum=taget_colum.reshape(-1,1)\n",
    "training_taret = min_Max_scaler_target.fit_transform(taget_colum)"
   ]
  },
  {
   "cell_type": "code",
   "execution_count": 6,
   "metadata": {},
   "outputs": [],
   "source": [
    "sequence_lenght = 30 # we are looking a month back\n",
    "future_period_target =7 # we want to predict 7 days in to the future\n",
    "def sequential_data(dataset):\n",
    "    data_X_values, data_Y_values = [], []\n",
    "    for i in range(len(dataset) - sequence_lenght):\n",
    "        a = dataset[i:(i + sequence_lenght),:]\n",
    "        data_X_values.append(a)\n",
    "        data_Y_values.append(dataset[i + future_period_target, 0])\n",
    "    return np.array(data_X_values), np.array(data_Y_values)"
   ]
  },
  {
   "cell_type": "code",
   "execution_count": 7,
   "metadata": {},
   "outputs": [],
   "source": [
    "sequence_lenght = 30 # we are looking a month back\n",
    "future_period_target =7 # we want to predict 7 days in to the future\n",
    "def sequential_data_2(dataset):\n",
    "    data_X_values, data_Y_values = [], []\n",
    "    for i in range(sequence_lenght,len(dataset) - future_period_target):\n",
    "        a = dataset[i-sequence_lenght:i,:]\n",
    "        data_X_values.append(a)\n",
    "        data_Y_values.append(dataset[i + future_period_target, 0])\n",
    "    return np.array(data_X_values), np.array(data_Y_values)"
   ]
  },
  {
   "cell_type": "code",
   "execution_count": 8,
   "metadata": {},
   "outputs": [],
   "source": [
    "train_X, train_Y = sequential_data_2(training_dataset_scaled)  #using the second function"
   ]
  },
  {
   "cell_type": "code",
   "execution_count": 9,
   "metadata": {},
   "outputs": [],
   "source": [
    "#reshape input to be  [samples, time steps, features]\n",
    "train_X= np.reshape(train_X, (train_X.shape[0], sequence_lenght, 6)) #6 is the numver of features i have"
   ]
  },
  {
   "cell_type": "code",
   "execution_count": 10,
   "metadata": {},
   "outputs": [
    {
     "name": "stderr",
     "output_type": "stream",
     "text": [
      "C:\\Users\\Alvertos\\Anaconda3\\envs\\keras\\lib\\site-packages\\PIL\\Image.py:116: RuntimeWarning: The _imaging extension was built for another version of Pillow or PIL:\n",
      "Core version: 5.3.0\n",
      "Pillow version: 5.4.1\n",
      "  warnings.warn(str(v), RuntimeWarning)\n",
      "C:\\Users\\Alvertos\\Anaconda3\\envs\\keras\\lib\\site-packages\\PIL\\Image.py:116: RuntimeWarning: The _imaging extension was built for another version of Pillow or PIL:\n",
      "Core version: 5.3.0\n",
      "Pillow version: 5.4.1\n",
      "  warnings.warn(str(v), RuntimeWarning)\n"
     ]
    }
   ],
   "source": [
    "#Training the model\n",
    "import tensorflow as tf\n",
    "from tensorflow.keras.models import Sequential\n",
    "from tensorflow.keras.layers import Dense, Dropout, LSTM, CuDNNLSTM, BatchNormalization\n",
    "from tensorflow.keras.callbacks import TensorBoard\n",
    "from tensorflow.keras.callbacks import ModelCheckpoint"
   ]
  },
  {
   "cell_type": "code",
   "execution_count": 11,
   "metadata": {},
   "outputs": [],
   "source": [
    "model = Sequential()\n",
    "model.add(CuDNNLSTM(10, return_sequences=True))\n",
    "model.add(Dropout(0.2))\n",
    "model.add(BatchNormalization())  #normalizes activation outputs, same reason you want to normalize your input data.\n",
    "\n",
    "model.add(CuDNNLSTM(10, return_sequences=True))\n",
    "model.add(Dropout(0.1))\n",
    "model.add(BatchNormalization())\n",
    "\n",
    "model.add(CuDNNLSTM(30))\n",
    "model.add(Dropout(0.2))\n",
    "model.add(BatchNormalization())\n",
    "\n",
    "#Outpute layer\n",
    "model.add(Dense(units=1))\n",
    "\n",
    "#Compiling the model\n",
    "model.compile(optimizer=\"adam\", loss=\"mean_squared_error\")"
   ]
  },
  {
   "cell_type": "code",
   "execution_count": 12,
   "metadata": {},
   "outputs": [
    {
     "name": "stdout",
     "output_type": "stream",
     "text": [
      "Epoch 1/100\n",
      "1096/1096 [==============================] - 5s 5ms/step - loss: 0.0479\n",
      "Epoch 2/100\n",
      "1096/1096 [==============================] - 0s 400us/step - loss: 0.0040\n",
      "Epoch 3/100\n",
      "1096/1096 [==============================] - 1s 460us/step - loss: 0.0029\n",
      "Epoch 4/100\n",
      "1096/1096 [==============================] - 0s 456us/step - loss: 0.0030\n",
      "Epoch 5/100\n",
      "1096/1096 [==============================] - 1s 487us/step - loss: 0.0027\n",
      "Epoch 6/100\n",
      "1096/1096 [==============================] - 1s 457us/step - loss: 0.0027\n",
      "Epoch 7/100\n",
      "1096/1096 [==============================] - ETA: 0s - loss: 0.002 - 0s 447us/step - loss: 0.0027\n",
      "Epoch 8/100\n",
      "1096/1096 [==============================] - 0s 441us/step - loss: 0.0027\n",
      "Epoch 9/100\n",
      "1096/1096 [==============================] - 1s 577us/step - loss: 0.0027\n",
      "Epoch 10/100\n",
      "1096/1096 [==============================] - 0s 452us/step - loss: 0.0025\n",
      "Epoch 11/100\n",
      "1096/1096 [==============================] - 1s 457us/step - loss: 0.0025\n",
      "Epoch 12/100\n",
      "1096/1096 [==============================] - 1s 852us/step - loss: 0.0025\n",
      "Epoch 13/100\n",
      "1096/1096 [==============================] - 0s 383us/step - loss: 0.0025\n",
      "Epoch 14/100\n",
      "1096/1096 [==============================] - 0s 380us/step - loss: 0.0024\n",
      "Epoch 15/100\n",
      "1096/1096 [==============================] - 0s 451us/step - loss: 0.0024\n",
      "Epoch 16/100\n",
      "1096/1096 [==============================] - 0s 428us/step - loss: 0.0025\n",
      "Epoch 17/100\n",
      "1096/1096 [==============================] - 1s 494us/step - loss: 0.0023\n",
      "Epoch 18/100\n",
      "1096/1096 [==============================] - 0s 430us/step - loss: 0.0024\n",
      "Epoch 19/100\n",
      "1096/1096 [==============================] - 1s 464us/step - loss: 0.0022\n",
      "Epoch 20/100\n",
      "1096/1096 [==============================] - 1s 505us/step - loss: 0.0023\n",
      "Epoch 21/100\n",
      "1096/1096 [==============================] - 1s 457us/step - loss: 0.0022\n",
      "Epoch 22/100\n",
      "1096/1096 [==============================] - 1s 481us/step - loss: 0.0021\n",
      "Epoch 23/100\n",
      "1096/1096 [==============================] - 1s 473us/step - loss: 0.0024\n",
      "Epoch 24/100\n",
      "1096/1096 [==============================] - 0s 439us/step - loss: 0.0022\n",
      "Epoch 25/100\n",
      "1096/1096 [==============================] - 1s 462us/step - loss: 0.0021\n",
      "Epoch 26/100\n",
      "1096/1096 [==============================] - 0s 415us/step - loss: 0.0021\n",
      "Epoch 27/100\n",
      "1096/1096 [==============================] - 0s 439us/step - loss: 0.0022\n",
      "Epoch 28/100\n",
      "1096/1096 [==============================] - 0s 408us/step - loss: 0.0020\n",
      "Epoch 29/100\n",
      "1096/1096 [==============================] - 0s 454us/step - loss: 0.0020\n",
      "Epoch 30/100\n",
      "1096/1096 [==============================] - 0s 406us/step - loss: 0.0021\n",
      "Epoch 31/100\n",
      "1096/1096 [==============================] - 0s 411us/step - loss: 0.0021\n",
      "Epoch 32/100\n",
      "1096/1096 [==============================] - 1s 493us/step - loss: 0.0021\n",
      "Epoch 33/100\n",
      "1096/1096 [==============================] - 1s 460us/step - loss: 0.0020\n",
      "Epoch 34/100\n",
      "1096/1096 [==============================] - 0s 455us/step - loss: 0.0021\n",
      "Epoch 35/100\n",
      "1096/1096 [==============================] - 0s 432us/step - loss: 0.0020\n",
      "Epoch 36/100\n",
      "1096/1096 [==============================] - 0s 417us/step - loss: 0.0019\n",
      "Epoch 37/100\n",
      "1096/1096 [==============================] - 0s 440us/step - loss: 0.0020\n",
      "Epoch 38/100\n",
      "1096/1096 [==============================] - 0s 409us/step - loss: 0.0019\n",
      "Epoch 39/100\n",
      "1096/1096 [==============================] - 0s 420us/step - loss: 0.0020\n",
      "Epoch 40/100\n",
      "1096/1096 [==============================] - 0s 392us/step - loss: 0.0021\n",
      "Epoch 41/100\n",
      "1096/1096 [==============================] - 0s 433us/step - loss: 0.0019\n",
      "Epoch 42/100\n",
      "1096/1096 [==============================] - 0s 454us/step - loss: 0.0019\n",
      "Epoch 43/100\n",
      "1096/1096 [==============================] - 0s 400us/step - loss: 0.0020\n",
      "Epoch 44/100\n",
      "1096/1096 [==============================] - 0s 426us/step - loss: 0.0020\n",
      "Epoch 45/100\n",
      "1096/1096 [==============================] - 0s 406us/step - loss: 0.0019\n",
      "Epoch 46/100\n",
      "1096/1096 [==============================] - 0s 416us/step - loss: 0.0019\n",
      "Epoch 47/100\n",
      "1096/1096 [==============================] - 0s 421us/step - loss: 0.0019\n",
      "Epoch 48/100\n",
      "1096/1096 [==============================] - 0s 398us/step - loss: 0.0018\n",
      "Epoch 49/100\n",
      "1096/1096 [==============================] - 0s 390us/step - loss: 0.0018\n",
      "Epoch 50/100\n",
      "1096/1096 [==============================] - 0s 405us/step - loss: 0.0018\n",
      "Epoch 51/100\n",
      "1096/1096 [==============================] - 0s 399us/step - loss: 0.0019\n",
      "Epoch 52/100\n",
      "1096/1096 [==============================] - 0s 389us/step - loss: 0.0019\n",
      "Epoch 53/100\n",
      "1096/1096 [==============================] - 0s 397us/step - loss: 0.0019\n",
      "Epoch 54/100\n",
      "1096/1096 [==============================] - 0s 383us/step - loss: 0.0018\n",
      "Epoch 55/100\n",
      "1096/1096 [==============================] - 0s 387us/step - loss: 0.0018\n",
      "Epoch 56/100\n",
      "1096/1096 [==============================] - 0s 405us/step - loss: 0.0019\n",
      "Epoch 57/100\n",
      "1096/1096 [==============================] - 0s 401us/step - loss: 0.0018\n",
      "Epoch 58/100\n",
      "1096/1096 [==============================] - 0s 385us/step - loss: 0.0021\n",
      "Epoch 59/100\n",
      "1096/1096 [==============================] - 0s 385us/step - loss: 0.0020\n",
      "Epoch 60/100\n",
      "1096/1096 [==============================] - 0s 400us/step - loss: 0.0019\n",
      "Epoch 61/100\n",
      "1096/1096 [==============================] - 0s 399us/step - loss: 0.0018\n",
      "Epoch 62/100\n",
      "1096/1096 [==============================] - 0s 420us/step - loss: 0.0018\n",
      "Epoch 63/100\n",
      "1096/1096 [==============================] - 0s 437us/step - loss: 0.0018\n",
      "Epoch 64/100\n",
      "1096/1096 [==============================] - 0s 395us/step - loss: 0.0018\n",
      "Epoch 65/100\n",
      "1096/1096 [==============================] - 0s 392us/step - loss: 0.0018\n",
      "Epoch 66/100\n",
      "1096/1096 [==============================] - 0s 421us/step - loss: 0.0017\n",
      "Epoch 67/100\n",
      "1096/1096 [==============================] - 0s 400us/step - loss: 0.0017\n",
      "Epoch 68/100\n",
      "1096/1096 [==============================] - 0s 425us/step - loss: 0.0017\n",
      "Epoch 69/100\n",
      "1096/1096 [==============================] - 0s 392us/step - loss: 0.0018\n",
      "Epoch 70/100\n",
      "1096/1096 [==============================] - 0s 379us/step - loss: 0.0017\n",
      "Epoch 71/100\n",
      "1096/1096 [==============================] - 0s 399us/step - loss: 0.0017\n",
      "Epoch 72/100\n",
      "1096/1096 [==============================] - 0s 384us/step - loss: 0.0017\n",
      "Epoch 73/100\n",
      "1096/1096 [==============================] - 0s 400us/step - loss: 0.0016\n",
      "Epoch 74/100\n",
      "1096/1096 [==============================] - 0s 399us/step - loss: 0.0017\n",
      "Epoch 75/100\n",
      "1096/1096 [==============================] - 0s 413us/step - loss: 0.0016\n",
      "Epoch 76/100\n",
      "1096/1096 [==============================] - 0s 391us/step - loss: 0.0017\n",
      "Epoch 77/100\n",
      "1096/1096 [==============================] - 0s 393us/step - loss: 0.0018\n",
      "Epoch 78/100\n",
      "1096/1096 [==============================] - 0s 389us/step - loss: 0.0017\n",
      "Epoch 79/100\n",
      "1096/1096 [==============================] - 0s 386us/step - loss: 0.0017\n",
      "Epoch 80/100\n",
      "1096/1096 [==============================] - 0s 401us/step - loss: 0.0016\n",
      "Epoch 81/100\n",
      "1096/1096 [==============================] - 0s 432us/step - loss: 0.0016\n",
      "Epoch 82/100\n",
      "1096/1096 [==============================] - 1s 488us/step - loss: 0.0016\n",
      "Epoch 83/100\n",
      "1096/1096 [==============================] - 0s 434us/step - loss: 0.0018\n",
      "Epoch 84/100\n",
      "1096/1096 [==============================] - 0s 444us/step - loss: 0.0016\n",
      "Epoch 85/100\n",
      "1096/1096 [==============================] - 0s 438us/step - loss: 0.0016\n",
      "Epoch 86/100\n",
      "1096/1096 [==============================] - 0s 430us/step - loss: 0.0016\n",
      "Epoch 87/100\n",
      "1096/1096 [==============================] - 0s 456us/step - loss: 0.0016\n",
      "Epoch 88/100\n",
      "1096/1096 [==============================] - 0s 421us/step - loss: 0.0017\n",
      "Epoch 89/100\n",
      "1096/1096 [==============================] - 0s 389us/step - loss: 0.0017\n",
      "Epoch 90/100\n",
      "1096/1096 [==============================] - 0s 420us/step - loss: 0.0017\n",
      "Epoch 91/100\n",
      "1096/1096 [==============================] - 1s 460us/step - loss: 0.0016\n",
      "Epoch 92/100\n",
      "1096/1096 [==============================] - 0s 425us/step - loss: 0.0018\n",
      "Epoch 93/100\n",
      "1096/1096 [==============================] - 0s 451us/step - loss: 0.0016\n",
      "Epoch 94/100\n",
      "1096/1096 [==============================] - 0s 401us/step - loss: 0.0017\n",
      "Epoch 95/100\n"
     ]
    },
    {
     "name": "stdout",
     "output_type": "stream",
     "text": [
      "1096/1096 [==============================] - 0s 398us/step - loss: 0.0016\n",
      "Epoch 96/100\n",
      "1096/1096 [==============================] - 0s 390us/step - loss: 0.0016\n",
      "Epoch 97/100\n",
      "1096/1096 [==============================] - 0s 388us/step - loss: 0.0016\n",
      "Epoch 98/100\n",
      "1096/1096 [==============================] - 0s 405us/step - loss: 0.0016\n",
      "Epoch 99/100\n",
      "1096/1096 [==============================] - 0s 415us/step - loss: 0.0016\n",
      "Epoch 100/100\n",
      "1096/1096 [==============================] - 0s 410us/step - loss: 0.0015\n"
     ]
    },
    {
     "data": {
      "text/plain": [
       "<tensorflow.python.keras.callbacks.History at 0x18ef378f898>"
      ]
     },
     "execution_count": 12,
     "metadata": {},
     "output_type": "execute_result"
    }
   ],
   "source": [
    "#Training the model\n",
    "model.fit(train_X,train_Y,epochs=100,batch_size=32)"
   ]
  },
  {
   "cell_type": "code",
   "execution_count": 13,
   "metadata": {},
   "outputs": [],
   "source": [
    "#Testing the model on unseen data\n",
    "validation_dataset_scaled = min_max_scaler.transform(validation_dataset)\n",
    "validation_X ,validation_y = sequential_data(validation_dataset_scaled)\n",
    "validation_X = np.reshape(validation_X, (validation_X.shape[0], sequence_lenght, 6))\n",
    "predicted_stock_price = model.predict(validation_X)\n",
    "predicted_stock_price = min_Max_scaler_target.inverse_transform(predicted_stock_price)"
   ]
  },
  {
   "cell_type": "code",
   "execution_count": 14,
   "metadata": {},
   "outputs": [],
   "source": [
    "real_stock_price=validation_dataset[:- sequence_lenght,0]\n",
    "real_stock_price=real_stock_price.reshape(-1,1)\n",
    "real_stock_price_scaled = min_Max_scaler_target.transform(real_stock_price)"
   ]
  },
  {
   "cell_type": "code",
   "execution_count": 15,
   "metadata": {},
   "outputs": [
    {
     "data": {
      "image/png": "[encoded data removed]",
      "text/plain": [
       "<Figure size 432x288 with 1 Axes>"
      ]
     },
     "metadata": {
      "needs_background": "light"
     },
     "output_type": "display_data"
    }
   ],
   "source": [
    "plt.plot(real_stock_price , color= 'red',label=\"real apple stock price\")\n",
    "plt.plot(predicted_stock_price, color= \"blue\", label=\"predicted apple price\")\n",
    "plt.title(\"Apple stock price prediction\")\n",
    "plt.xlabel(\"Time\")\n",
    "plt.ylabel(\"apple stock price\")\n",
    "plt.legend()\n",
    "plt.show()"
   ]
  },
  {
   "cell_type": "code",
   "execution_count": 16,
   "metadata": {},
   "outputs": [],
   "source": [
    "#concatinating\n",
    "training_part=training_dataset_scaled[-sequence_lenght:]\n",
    "new_validation_scaled=np.concatenate((training_part,validation_dataset_scaled),axis=0)#concatenate verticaly"
   ]
  },
  {
   "cell_type": "code",
   "execution_count": 17,
   "metadata": {},
   "outputs": [],
   "source": [
    "#Testing the model on unseen data\n",
    "validation_dataset_scaled = min_max_scaler.transform(validation_dataset)\n",
    "validation_X ,validation_y = sequential_data_2(new_validation_scaled)\n",
    "validation_X = np.reshape(validation_X, (validation_X.shape[0], sequence_lenght, 6))\n",
    "predicted_stock_price = model.predict(validation_X)\n",
    "predicted_stock_price = min_Max_scaler_target.inverse_transform(predicted_stock_price)"
   ]
  },
  {
   "cell_type": "code",
   "execution_count": 18,
   "metadata": {},
   "outputs": [],
   "source": [
    "real_stock_price=validation_dataset[:-future_period_target,0]\n",
    "real_stock_price=real_stock_price.reshape(-1,1)\n",
    "real_stock_price_scaled = min_Max_scaler_target.transform(real_stock_price)"
   ]
  },
  {
   "cell_type": "code",
   "execution_count": 19,
   "metadata": {},
   "outputs": [
    {
     "data": {
      "image/png": "[encoded data removed]",
      "text/plain": [
       "<Figure size 432x288 with 1 Axes>"
      ]
     },
     "metadata": {
      "needs_background": "light"
     },
     "output_type": "display_data"
    }
   ],
   "source": [
    "plt.plot(real_stock_price , color= 'red',label=\"real apple stock price\")\n",
    "plt.plot(predicted_stock_price, color= \"blue\", label=\"predicted apple price\")\n",
    "plt.title(\"Apple stock price prediction\")\n",
    "plt.xlabel(\"Time\")\n",
    "plt.ylabel(\"apple stock price\")\n",
    "plt.legend()\n",
    "plt.show()"
   ]
  }
 ],
 "metadata": {
  "kernelspec": {
   "display_name": "keras",
   "language": "python",
   "name": "keras"
  },
  "language_info": {
   "codemirror_mode": {
    "name": "ipython",
    "version": 3
   },
   "file_extension": ".py",
   "mimetype": "text/x-python",
   "name": "python",
   "nbconvert_exporter": "python",
   "pygments_lexer": "ipython3",
   "version": "3.6.8"
  }
 },
 "nbformat": 4,
 "nbformat_minor": 2
}
